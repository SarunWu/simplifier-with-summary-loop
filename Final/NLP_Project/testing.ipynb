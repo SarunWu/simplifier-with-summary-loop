{
 "cells": [
  {
   "cell_type": "code",
   "execution_count": 1,
   "metadata": {},
   "outputs": [],
   "source": [
    "import pickle"
   ]
  },
  {
   "cell_type": "code",
   "execution_count": 2,
   "metadata": {},
   "outputs": [],
   "source": [
    "with open (\"/home/alexjcortes/NLP Project/coverage_40token_0615_11490news.pkl\", \"rb\") as f:\n",
    "    news_list = pickle.load(f)"
   ]
  },
  {
   "cell_type": "code",
   "execution_count": 3,
   "metadata": {},
   "outputs": [
    {
     "data": {
      "text/plain": [
       "list"
      ]
     },
     "execution_count": 3,
     "metadata": {},
     "output_type": "execute_result"
    }
   ],
   "source": [
    "type(news_list)"
   ]
  },
  {
   "cell_type": "code",
   "execution_count": 6,
   "metadata": {},
   "outputs": [
    {
     "data": {
      "text/plain": [
       "11490"
      ]
     },
     "execution_count": 6,
     "metadata": {},
     "output_type": "execute_result"
    }
   ],
   "source": [
    "len(news_list)"
   ]
  },
  {
   "cell_type": "code",
   "execution_count": 16,
   "metadata": {},
   "outputs": [
    {
     "data": {
      "text/plain": [
       "{'content': \"-LRB- CNN -RRB- Indiana 's controversial religious freedom law has been in hot water lately . After a firestorm of backlash and protests , Gov. Mike Pence said on Tuesday that the state will `` fix '' the Religious Freedom Restoration Act , or RFRA , so it will not discriminate against gays and lesbians . Pence is making the right call . Promoting the false dichotomy between protecting religion versus protecting equality serves no one . Not all people who dislike the law hate religion , and not all people who like the law want to discriminate against the LGBT community . If people of good will come together , liberty and equality can both be saved . The unbelievably easy way to fix Indiana 's RFRA is to add one small amendment , one easy line codifying that discrimination against the LGBT community is harmful , and that there is a compelling governmental interest in eliminating that harm . In general , it is a good thing for society to shape its laws in ways that allow people to live their lives consistent with their sincerely held religious obligations . As Americans , we value and always have valued the freedom and expression of religion . Sometimes , a law seems to impose only modest burdens on the people it affects , but in practice it actually severely burdens the religious practices of a few . In those situations , if there is no compelling governmental interest in enforcing that law in that particularly burdensome way -- and if no one else is harmed -- then religion should be granted an exemption . Shifting the burden to the government to prove that it really does need to apply this law in this particular way will not allow every person to become a law unto themselves ; it simply sends the message that religion is important , and unless there are specific and compelling reasons why , people should be allowed to practice as they need . These are the reasons why the federal RFRA was passed in 1993 , and why it had bipartisan support . These are wholesome American values that everyone can get behind . The problem is that we no longer live in 1993 , 10 years before Lawrence v. Texas , and 20 before U.S. v. Windsor . In 1993 , our sensibilities were different ; there was not yet a national conversation about the need to protect the rights and dignity of members of the LGBT community . Timing matters because society changes , and now that our horizons have been broadened we can not just keep insisting that the law was never intended to discriminate and worked just fine 22 years ago , before we realized its negative potential . Even if not a single lawmaker consciously intends the bill to be used as a shield for discrimination , we still have to take seriously Justice Oliver Wendell Holmes ' claim about unintended consequences . To put it simply , you have to be concerned with what the law allows a person to get away with . The concern is real . Because Indiana does not have a law prohibiting discrimination on the basis of sexual orientation , the bill as drafted might allow people who were so inclined to discriminate , and simply assert that they could do so based on a religious belief . Public perceptions matter . Whether or not lawmakers think so , it certainly seems relevant to the general public that this bill was passed with important national decisions about marriage equality on the horizon and right after the ruling in Baskin v. Bogans that Indiana 's same-sex marriage ban was unconstitutional . Writing for the Seventh Circuit panel in 2014 , Judge Richard Posner 's rationale in the case of Baskin v. Bogan provides the obvious answer for how to fix the RFRA deficiency without changing what it is that it defends . Courts have long held that a religious exemption can not be granted if it allows you to shift the harm to a third party , and -- as Posner explained so simply -- discrimination is harmful . RFRAs are not inherently evil . The message can be nondiscriminatory and religion can be protected . The principles of RFRA can remain unchanged ; it is just the definition of harmful that evolves . A few simple words have the potential to completely change the conversation , send an important message about the value of equality , and make Indiana into a shining beacon of cooperation : the real `` crossroads of America . '' Doing so would go a long way toward restoring its reputation as a place of great opportunity for all to live and worship and work .\",\n",
       " 'ref_summary': \"Gov. Mike Pence is making the right call to fix Indiana 's religious freedom law , which can be used for discrimination . . Mark Goldfeder : Indiana should aim to be a shining beacon of cooperation : the real `` crossroads of America ''\",\n",
       " 'sim_summary': \"-LRB- CNN -RRB- Indiana's controversial religious freedom law has been in hot water lately. After a firestorm of backlash and protests, Gov. Mike Pence said on Tuesday that\"}"
      ]
     },
     "execution_count": 16,
     "metadata": {},
     "output_type": "execute_result"
    }
   ],
   "source": [
    "news_list[1000]"
   ]
  },
  {
   "cell_type": "code",
   "execution_count": null,
   "metadata": {},
   "outputs": [],
   "source": []
  }
 ],
 "metadata": {
  "kernelspec": {
   "display_name": "test2",
   "language": "python",
   "name": "python3"
  },
  "language_info": {
   "codemirror_mode": {
    "name": "ipython",
    "version": 3
   },
   "file_extension": ".py",
   "mimetype": "text/x-python",
   "name": "python",
   "nbconvert_exporter": "python",
   "pygments_lexer": "ipython3",
   "version": "3.8.0 | packaged by conda-forge | (default, Nov 22 2019, 19:11:38) \n[GCC 7.3.0]"
  },
  "orig_nbformat": 4,
  "vscode": {
   "interpreter": {
    "hash": "c310fdb53e7f988a7d6f3d9d2a70dba45ba228c36a3e402b2ab0a3940385fc31"
   }
  }
 },
 "nbformat": 4,
 "nbformat_minor": 2
}
