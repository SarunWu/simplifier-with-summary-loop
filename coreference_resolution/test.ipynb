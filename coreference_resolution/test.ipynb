{
 "cells": [
  {
   "cell_type": "code",
   "execution_count": 8,
   "metadata": {
    "collapsed": true,
    "pycharm": {
     "name": "#%%\n"
    }
   },
   "outputs": [],
   "source": [
    "import generate_summary.generate_coreference_summary as coref\n",
    "\n",
    "import pandas as pd\n",
    "news_list = pd.read_pickle(\"data/sample_news.pkl\")"
   ]
  },
  {
   "cell_type": "code",
   "execution_count": 9,
   "outputs": [],
   "source": [
    "sample = news_list[1]['content']"
   ],
   "metadata": {
    "collapsed": false,
    "pycharm": {
     "name": "#%%\n"
    }
   }
  },
  {
   "cell_type": "code",
   "execution_count": 11,
   "outputs": [],
   "source": [
    "result = coref.generate_summary(sample)"
   ],
   "metadata": {
    "collapsed": false,
    "pycharm": {
     "name": "#%%\n"
    }
   }
  },
  {
   "cell_type": "code",
   "execution_count": 15,
   "outputs": [
    {
     "data": {
      "text/plain": "['-LRB- CNN -RRB- The Palestinian Authority officially became the 123rd member of the International Criminal Court on Wednesday , a step that gives the court jurisdiction over alleged crimes in Palestinian territories ',\n ' The formal accession was marked with a ceremony at The Hague , in the Netherlands , where the court is based ',\n \" The Palestinians signed the ICC 's founding Rome Statute in January , when they also accepted its jurisdiction over alleged crimes committed `` in the occupied Palestinian territory , including East Jerusalem , since June 13 , 2014 \",\n \" '' Later that month , the ICC opened a preliminary examination into the situation in Palestinian territories , paving the way for possible war crimes investigations against Israelis \",\n ' As members of the court , Palestinians may be subject to counter-charges as well ',\n \" Israel and the United States , neither of which is an ICC member , opposed the Palestinians ' efforts to join the body \",\n \" But Palestinian Foreign Minister Riad al-Malki , speaking at Wednesday 's ceremony , said it was a move toward greater justice \",\n \" `` As Palestine formally becomes a State Party to the Rome Statute today , the world is also a step closer to ending a long era of impunity and injustice , '' he said , according to an ICC news release \",\n ' `` Indeed , today brings us closer to our shared goals of justice and peace ',\n \" '' Judge Kuniko Ozaki , a vice president of the ICC , said acceding to the treaty was just the first step for the Palestinians \",\n ' `` As the Rome Statute today enters into force for the State of Palestine , Palestine acquires all the rights as well as responsibilities that come with being a State Party to the Statute ',\n \" These are substantive commitments , which can not be taken lightly , '' she said \",\n ' Rights group Human Rights Watch welcomed the development ',\n \" `` Governments seeking to penalize Palestine for joining the ICC should immediately end their pressure , and countries that support universal acceptance of the court 's treaty should speak out to welcome its membership , '' said Balkees Jarrah , international justice counsel for the group \",\n \" `` What 's objectionable is the attempts to undermine international justice , not Palestine 's decision to join a treaty to which over 100 countries around the world are members \",\n \" '' In January , when the preliminary ICC examination was opened , Israeli Prime Minister Benjamin Netanyahu described it as an outrage , saying the court was overstepping its boundaries \",\n \" The United States also said it `` strongly '' disagreed with the court 's decision \",\n \" `` As we have said repeatedly , we do not believe that Palestine is a state and therefore we do not believe that it is eligible to join the ICC , '' the State Department said in a statement \",\n ' It urged the warring sides to resolve their differences through direct negotiations ',\n \" `` We will continue to oppose actions against Israel at the ICC as counterproductive to the cause of peace , '' it said \",\n ' But the ICC begs to differ with the definition of a state for its purposes and refers to the territories as `` Palestine ',\n \" '' While a preliminary examination is not a formal investigation , it allows the court to review evidence and determine whether to investigate suspects on both sides \",\n ' Prosecutor Fatou Bensouda said her office would `` conduct its analysis in full independence and impartiality ',\n \" '' The war between Israel and Hamas militants in Gaza last summer left more than 2,000 people dead \",\n ' The inquiry will include alleged war crimes committed since June ',\n ' The International Criminal Court was set up in 2002 to prosecute genocide , crimes against humanity and war crimes ',\n \" CNN 's Vasco Cotovio , Kareem Khadder and Faith Karimi contributed to this report \",\n '']"
     },
     "execution_count": 15,
     "metadata": {},
     "output_type": "execute_result"
    }
   ],
   "source": [
    "sent = result.split(\".\")\n",
    "sent"
   ],
   "metadata": {
    "collapsed": false,
    "pycharm": {
     "name": "#%%\n"
    }
   }
  },
  {
   "cell_type": "code",
   "execution_count": 12,
   "outputs": [],
   "source": [
    "from sentence_transformers import SentenceTransformer, util\n",
    "\n",
    "model = SentenceTransformer('all-MiniLM-L6-v2')"
   ],
   "metadata": {
    "collapsed": false,
    "pycharm": {
     "name": "#%%\n"
    }
   }
  },
  {
   "cell_type": "code",
   "execution_count": null,
   "outputs": [],
   "source": [
    "_embedding = model.encode(result)\n"
   ],
   "metadata": {
    "collapsed": false,
    "pycharm": {
     "name": "#%%\n"
    }
   }
  }
 ],
 "metadata": {
  "kernelspec": {
   "display_name": "Python 3",
   "language": "python",
   "name": "python3"
  },
  "language_info": {
   "codemirror_mode": {
    "name": "ipython",
    "version": 2
   },
   "file_extension": ".py",
   "mimetype": "text/x-python",
   "name": "python",
   "nbconvert_exporter": "python",
   "pygments_lexer": "ipython2",
   "version": "2.7.6"
  }
 },
 "nbformat": 4,
 "nbformat_minor": 0
}