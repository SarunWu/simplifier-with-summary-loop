{
 "cells": [
  {
   "cell_type": "code",
   "execution_count": 1,
   "metadata": {
    "collapsed": true,
    "pycharm": {
     "name": "#%%\n"
    }
   },
   "outputs": [
    {
     "name": "stderr",
     "output_type": "stream",
     "text": [
      "[nltk_data] Downloading package punkt to /Users/kneskung/nltk_data...\n",
      "[nltk_data]   Package punkt is already up-to-date!\n",
      "Some weights of BertModel were not initialized from the model checkpoint at SpanBERT/spanbert-large-cased and are newly initialized: ['bert.pooler.dense.bias', 'bert.pooler.dense.weight']\n",
      "You should probably TRAIN this model on a down-stream task to be able to use it for predictions and inference.\n"
     ]
    }
   ],
   "source": [
    "import generate_summary.generate_coreference_summary as coref\n",
    "\n",
    "import pandas as pd\n",
    "\n",
    "news_list = pd.read_pickle(\"data/sample_news.pkl\")"
   ]
  },
  {
   "cell_type": "code",
   "execution_count": 12,
   "outputs": [
    {
     "data": {
      "text/plain": "\"-LRB- CNN -RRB- The Rev. Robert H. Schuller , California televangelist and founder of the television ministry `` Hour of Power , '' died Thursday , according to his family . He was 88 years old . Schuller , also the founder of Crystal Cathedral megachurch , had been diagnosed with esophageal cancer in August 2013 , a release from `` Hour of Power '' said . `` My father-in-law passed away peacefully early this morning . He was a great Dad and a great man of God , '' said Schuller 's daughter-in-law , Donna Schuller , in a Twitter message . Schuller 's life followed an almost Shakespearean arc . He was born in a Iowa farmhouse without running water and longed to preach from his earliest days . In his autobiography , `` Prayer : My Soul 's Adventure with God , '' he described standing alone by a river and picturing himself delivering sermons to a rapt congregation . After attending a Hope College and Western Theological Seminary in Michigan , he met his wife of more than 60 years , Arvella , while preaching at her church -LRB- she was the organist -RRB- . With their young family in tow , the Schullers caravanned west to California , where he rented a drive-in theater and preached from the roof of the snack bar . It was beneath the dignity of Christian ministry , some local pastors huffed . The `` passion pits '' where teenagers necked was no place for the gospel . Schuller was undeterred , and he quickly outgrew the drive-in . He called the explosive growth of his tiny congregation a `` miracle , '' though his many mainstream critics had other names for it . His confident , breezy version of Christianity -- too breezy , by some estimations -- drew hordes of seekers and lapsed Christians who were put off by the hellfire fulminations of many post-War American preachers . Schuller sold a softer , gentler message , which borrowed heavily , he acknowledged , from the father of the feel-good gospel , Norman Vincent Peale . He preached not to convert or condemn people , but to encourage them , a sentiment he called `` possibility thinking . '' People loved it . `` Evangelicalism at its best wants to be innovative and reach people , '' said Timothy Larsen , a professor of Christian thought at Wheaton College in Illinois . `` And Schuller was a master at that . '' `` What he got right is that the gospel is good news , '' Larsen continued . `` And he preached an uplifting message about personal transformation and uplift and hope . '' Some of Schuller 's favored phrases , though , struck others as cornpone Christianity . `` Turn your hurt into a halo ? '' said Randall Balmer , a professor of American religious history at Dartmouth College , citing one such phrase . `` That 's pretty weak tea . '' Still , Balmer gives Schuller some credit . `` It may be bad theology , but it 's brilliant marketing . '' In 1970 , Schuller began broadcasting `` Hour of Power , '' believed to be one of the first , if not the very first , Sunday service to be shown regularly on television . With his genial smile , priestly robes and gray hair , he looked and talked like a guy who wanted nothing more than to see his flock succeed . The show , which ran for decades , reached millions , making Schuller a televangelist before the term became tarnished by the sins of his many successors . Schuller 's crowning achievement , at least architecturally , still stands in Orange County , California , though it is now owned by the Roman Catholic Church . The Crystal Cathedral , a great gleaming edifice with 10,000 glass panels , gave worshipers a look at the clouds that house the heavens , while Schuller preached in the pulpit below . The message was clear to many : The road to the former ran through the latter . During the 1980s and 1990s , Schuller 's star continued to rise , with presidents stopping by the Crystal Cathedral -- often during campaigns , it should be said -- and future megachurch pastors like Rick Warren and Bill Hybels seeking his advice . As Schuller aged , though , his family was beset by a succession scandal straight from the pages of `` King Lear . '' He tried to install his only son , Bobby Jr. , as pastor of Crystal Cathedral . But the preaching styles of father and son were too different for the congregation -- measured at times at 10,000 strong -- to countenance . Bobby Schuller Jr. left `` Hour of Power '' and the pulpit at Crystal Cathedral after a short time . As the family searched for a new successor and tussled over finances , viewers and donations to the church and its television show dropped precipitously . Crystal Cathedral Ministries filed for bankruptcy in 2010 , citing debts of more than $ 43 million , according to The Associated Press . Schuller 's empire , which once soared as high as his glassy cathedral , had fallen to dust . Eventually , Schuller 's grandson , also named Bobby , took over `` Hour of Power , '' though at a different church . In a statement on Thursday , the younger Schuller recalled standing atop Crystal Cathedral 's 12-story Tower of Hope with his grandfather as they surveyed the surrounding landscape . `` You could see the whole world from there , '' he said . People we 've lost in 2015 . CNN 's Stella Chan reported from Los Angeles .\""
     },
     "execution_count": 12,
     "metadata": {},
     "output_type": "execute_result"
    }
   ],
   "source": [
    "sample = news_list[6]['content']\n",
    "sample"
   ],
   "metadata": {
    "collapsed": false,
    "pycharm": {
     "name": "#%%\n"
    }
   }
  },
  {
   "cell_type": "code",
   "execution_count": 8,
   "outputs": [
    {
     "name": "stdout",
     "output_type": "stream",
     "text": [
      "**************************************************\n",
      "sim_mat:  [[0. 0. 0. 3. 1. 1. 0. 0. 0. 0. 2. 1. 2. 2. 3. 2. 1. 3.]\n",
      " [0. 0. 0. 0. 0. 0. 0. 0. 0. 0. 0. 0. 0. 0. 0. 0. 0. 0.]\n",
      " [0. 0. 0. 0. 0. 0. 0. 0. 0. 0. 1. 0. 0. 0. 0. 1. 0. 0.]\n",
      " [3. 0. 0. 0. 0. 0. 0. 0. 0. 0. 2. 0. 2. 0. 2. 2. 1. 2.]\n",
      " [1. 0. 0. 0. 0. 1. 0. 0. 0. 0. 0. 0. 0. 1. 0. 0. 0. 0.]\n",
      " [1. 0. 0. 0. 1. 0. 1. 1. 1. 1. 0. 0. 0. 1. 1. 0. 0. 1.]\n",
      " [0. 0. 0. 0. 0. 1. 0. 2. 1. 1. 0. 0. 0. 0. 1. 0. 1. 1.]\n",
      " [0. 0. 0. 0. 0. 1. 2. 0. 1. 1. 0. 0. 0. 0. 1. 0. 1. 1.]\n",
      " [0. 0. 0. 0. 0. 1. 1. 1. 0. 1. 0. 0. 0. 0. 1. 0. 0. 1.]\n",
      " [0. 0. 0. 0. 0. 1. 1. 1. 1. 0. 0. 0. 0. 0. 1. 0. 0. 1.]\n",
      " [2. 0. 1. 2. 0. 0. 0. 0. 0. 0. 0. 0. 2. 0. 2. 3. 0. 2.]\n",
      " [1. 0. 0. 0. 0. 0. 0. 0. 0. 0. 0. 0. 0. 1. 0. 0. 0. 1.]\n",
      " [2. 0. 0. 2. 0. 0. 0. 0. 0. 0. 2. 0. 0. 0. 2. 2. 0. 2.]\n",
      " [2. 0. 0. 0. 1. 1. 0. 0. 0. 0. 0. 1. 0. 0. 0. 0. 0. 1.]\n",
      " [3. 0. 0. 2. 0. 1. 1. 1. 1. 1. 2. 0. 2. 0. 0. 2. 0. 3.]\n",
      " [2. 0. 1. 2. 0. 0. 0. 0. 0. 0. 3. 0. 2. 0. 2. 0. 0. 2.]\n",
      " [1. 0. 0. 1. 0. 0. 1. 1. 0. 0. 0. 0. 0. 0. 0. 0. 0. 0.]\n",
      " [3. 0. 0. 2. 0. 1. 1. 1. 1. 1. 2. 1. 2. 1. 3. 2. 0. 0.]]\n",
      "**************************************************\n",
      "nx_graph:  Graph with 18 nodes and 57 edges\n",
      "**************************************************\n",
      "textrank_score:  {0: 0.11366513558330069, 1: 0.008746355685131197, 2: 0.017886591814924722, 3: 0.07398020161977717, 4: 0.02468324112576157, 5: 0.05751807438932216, 6: 0.05157203129155068, 7: 0.05157203129155068, 8: 0.039812109552579134, 9: 0.039812109552579134, 10: 0.07527446540967611, 11: 0.023805764062826217, 12: 0.06327868965808785, 13: 0.04167366219269844, 14: 0.10011339602532737, 15: 0.07527446540967611, 16: 0.02879805776983595, 17: 0.11253361756539448}\n",
      "final_sent_coref:  -LRB- CNN -RRB- A Duke student has admitted to hanging a noose made of rope from a tree near a student union , university officials said Thursday . The prestigious private school did n't identify the student , citing federal privacy laws . In a news release , it said the student was no longer on campus and will face student conduct review . The student was identified during an investigation by campus police and the office of student affairs and admitted to placing the noose on the tree early Wednesday , the university said . Students and faculty members marched Wednesday afternoon chanting `` We are not afraid . the incident is one of several recent racist events to affect college students . A statement issued by Duke said there was a previous report of hate speech directed at students on campus . In the news release , the vice president for student affairs called the incident a `` cowardly act . '' Duke University is a private college with about 15,000 students in Durham , North Carolina .\n"
     ]
    }
   ],
   "source": [
    "result = coref.generate_summary(sample)"
   ],
   "metadata": {
    "collapsed": false,
    "pycharm": {
     "name": "#%%\n"
    }
   }
  },
  {
   "cell_type": "code",
   "execution_count": 9,
   "outputs": [
    {
     "data": {
      "text/plain": "['-LRB- CNN -RRB- A Duke student has admitted to hanging a noose made of rope from a tree near a student union , university officials said Thursday ',\n \" The prestigious private school did n't identify the student , citing federal privacy laws \",\n ' In a news release , it said the student was no longer on campus and will face student conduct review ',\n ' The student was identified during an investigation by campus police and the office of student affairs and admitted to placing the noose on the tree early Wednesday , the university said ',\n ' Students and faculty members marched Wednesday afternoon chanting `` We are not afraid ',\n ' The incident is one of several recent racist events to affect college students ',\n ' A statement issued by Duke said there was a previous report of hate speech directed at students on campus ',\n ' In the news release , the vice president for student affairs called the noose incident a `` cowardly act ',\n \" '' Duke University is a private college with about 15,000 students in Durham , North Carolina \",\n '']"
     },
     "execution_count": 9,
     "metadata": {},
     "output_type": "execute_result"
    }
   ],
   "source": [
    "sent = result.split(\".\")\n",
    "sent"
   ],
   "metadata": {
    "collapsed": false,
    "pycharm": {
     "name": "#%%\n"
    }
   }
  },
  {
   "cell_type": "code",
   "execution_count": 10,
   "outputs": [],
   "source": [
    "from sentence_transformers import SentenceTransformer, util\n",
    "\n",
    "model = SentenceTransformer('all-MiniLM-L6-v2')"
   ],
   "metadata": {
    "collapsed": false,
    "pycharm": {
     "name": "#%%\n"
    }
   }
  },
  {
   "cell_type": "code",
   "execution_count": 11,
   "outputs": [
    {
     "name": "stdout",
     "output_type": "stream",
     "text": [
      "Top-5 most similar pairs:\n",
      "-LRB- CNN -RRB- A Duke student has admitted to hanging a noose made of rope from a tree near a student union , university officials said Thursday  \t  The student was identified during an investigation by campus police and the office of student affairs and admitted to placing the noose on the tree early Wednesday , the university said  \t 0.5720\n",
      " A statement issued by Duke said there was a previous report of hate speech directed at students on campus  \t  '' Duke University is a private college with about 15,000 students in Durham , North Carolina  \t 0.4843\n",
      " In a news release , it said the student was no longer on campus and will face student conduct review  \t  A statement issued by Duke said there was a previous report of hate speech directed at students on campus  \t 0.4710\n",
      " The incident is one of several recent racist events to affect college students  \t  A statement issued by Duke said there was a previous report of hate speech directed at students on campus  \t 0.4703\n",
      " In a news release , it said the student was no longer on campus and will face student conduct review  \t  In the news release , the vice president for student affairs called the noose incident a `` cowardly act  \t 0.4444\n"
     ]
    }
   ],
   "source": [
    "embeddings = model.encode(sent)\n",
    "\n",
    "#Compute cosine similarity between all pairs\n",
    "cos_sim = util.cos_sim(embeddings, embeddings)\n",
    "\n",
    "#Add all pairs to a list with their cosine similarity score\n",
    "all_sentence_combinations = []\n",
    "for i in range(len(cos_sim) - 1):\n",
    "    for j in range(i + 1, len(cos_sim)):\n",
    "        all_sentence_combinations.append([cos_sim[i][j], i, j])\n",
    "\n",
    "#Sort list by the highest cosine similarity score\n",
    "all_sentence_combinations = sorted(all_sentence_combinations, key=lambda x: x[0], reverse=True)\n",
    "\n",
    "print(\"Top-5 most similar pairs:\")\n",
    "for score, i, j in all_sentence_combinations[0:5]:\n",
    "    print(\"{} \\t {} \\t {:.4f}\".format(sent[i], sent[j], cos_sim[i][j]))"
   ],
   "metadata": {
    "collapsed": false,
    "pycharm": {
     "name": "#%%\n"
    }
   }
  },
  {
   "cell_type": "code",
   "execution_count": null,
   "outputs": [],
   "source": [],
   "metadata": {
    "collapsed": false,
    "pycharm": {
     "name": "#%%\n"
    }
   }
  },
  {
   "cell_type": "code",
   "execution_count": null,
   "outputs": [],
   "source": [],
   "metadata": {
    "collapsed": false,
    "pycharm": {
     "name": "#%%\n"
    }
   }
  }
 ],
 "metadata": {
  "kernelspec": {
   "display_name": "Python 3",
   "language": "python",
   "name": "python3"
  },
  "language_info": {
   "codemirror_mode": {
    "name": "ipython",
    "version": 2
   },
   "file_extension": ".py",
   "mimetype": "text/x-python",
   "name": "python",
   "nbconvert_exporter": "python",
   "pygments_lexer": "ipython2",
   "version": "2.7.6"
  }
 },
 "nbformat": 4,
 "nbformat_minor": 0
}