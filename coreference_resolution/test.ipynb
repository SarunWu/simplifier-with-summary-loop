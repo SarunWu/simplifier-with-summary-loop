{
 "cells": [
  {
   "cell_type": "code",
   "execution_count": 1,
   "metadata": {
    "collapsed": true,
    "pycharm": {
     "name": "#%%\n"
    }
   },
   "outputs": [
    {
     "name": "stderr",
     "output_type": "stream",
     "text": [
      "[nltk_data] Downloading package punkt to /Users/kneskung/nltk_data...\n",
      "[nltk_data]   Package punkt is already up-to-date!\n",
      "Some weights of BertModel were not initialized from the model checkpoint at SpanBERT/spanbert-large-cased and are newly initialized: ['bert.pooler.dense.bias', 'bert.pooler.dense.weight']\n",
      "You should probably TRAIN this model on a down-stream task to be able to use it for predictions and inference.\n"
     ]
    }
   ],
   "source": [
    "import generate_summary.generate_coreference_summary as coref\n",
    "\n",
    "import pandas as pd\n",
    "\n",
    "news_list = pd.read_pickle(\"data/sample_news.pkl\")"
   ]
  },
  {
   "cell_type": "code",
   "execution_count": 7,
   "outputs": [
    {
     "data": {
      "text/plain": "\"-LRB- CNN -RRB- A Duke student has admitted to hanging a noose made of rope from a tree near a student union , university officials said Thursday . The prestigious private school did n't identify the student , citing federal privacy laws . In a news release , it said the student was no longer on campus and will face student conduct review . The student was identified during an investigation by campus police and the office of student affairs and admitted to placing the noose on the tree early Wednesday , the university said . Officials are still trying to determine if other people were involved . Criminal investigations into the incident are ongoing as well . Students and faculty members marched Wednesday afternoon chanting `` We are not afraid . We stand together , '' after pictures of the noose were passed around on social media . At a forum held on the steps of Duke Chapel , close to where the noose was discovered at 2 a.m. , hundreds of people gathered . `` You came here for the reason that you want to say with me , ` This is no Duke we will accept . This is no Duke we want . This is not the Duke we 're here to experience . And this is not the Duke we 're here to create , ' '' Duke President Richard Brodhead told the crowd . The incident is one of several recent racist events to affect college students . Last month a fraternity at the University of Oklahoma had its charter removed after a video surfaced showing members using the N-word and referring to lynching in a chant . Two students were expelled . In February , a noose was hung around the neck of a statue of a famous civil rights figure at the University of Mississippi . A statement issued by Duke said there was a previous report of hate speech directed at students on campus . In the news release , the vice president for student affairs called the noose incident a `` cowardly act . '' `` To whomever committed this hateful and stupid act , I just want to say that if your intent was to create fear , it will have the opposite effect , '' Larry Moneta said Wednesday . Duke University is a private college with about 15,000 students in Durham , North Carolina . CNN 's Dave Alsup contributed to this report .\""
     },
     "execution_count": 7,
     "metadata": {},
     "output_type": "execute_result"
    }
   ],
   "source": [
    "sample = news_list[5]['content']\n",
    "sample"
   ],
   "metadata": {
    "collapsed": false,
    "pycharm": {
     "name": "#%%\n"
    }
   }
  },
  {
   "cell_type": "code",
   "execution_count": 8,
   "outputs": [
    {
     "name": "stdout",
     "output_type": "stream",
     "text": [
      "**************************************************\n",
      "sim_mat:  [[0. 0. 0. 3. 1. 1. 0. 0. 0. 0. 2. 1. 2. 2. 3. 2. 1. 3.]\n",
      " [0. 0. 0. 0. 0. 0. 0. 0. 0. 0. 0. 0. 0. 0. 0. 0. 0. 0.]\n",
      " [0. 0. 0. 0. 0. 0. 0. 0. 0. 0. 1. 0. 0. 0. 0. 1. 0. 0.]\n",
      " [3. 0. 0. 0. 0. 0. 0. 0. 0. 0. 2. 0. 2. 0. 2. 2. 1. 2.]\n",
      " [1. 0. 0. 0. 0. 1. 0. 0. 0. 0. 0. 0. 0. 1. 0. 0. 0. 0.]\n",
      " [1. 0. 0. 0. 1. 0. 1. 1. 1. 1. 0. 0. 0. 1. 1. 0. 0. 1.]\n",
      " [0. 0. 0. 0. 0. 1. 0. 2. 1. 1. 0. 0. 0. 0. 1. 0. 1. 1.]\n",
      " [0. 0. 0. 0. 0. 1. 2. 0. 1. 1. 0. 0. 0. 0. 1. 0. 1. 1.]\n",
      " [0. 0. 0. 0. 0. 1. 1. 1. 0. 1. 0. 0. 0. 0. 1. 0. 0. 1.]\n",
      " [0. 0. 0. 0. 0. 1. 1. 1. 1. 0. 0. 0. 0. 0. 1. 0. 0. 1.]\n",
      " [2. 0. 1. 2. 0. 0. 0. 0. 0. 0. 0. 0. 2. 0. 2. 3. 0. 2.]\n",
      " [1. 0. 0. 0. 0. 0. 0. 0. 0. 0. 0. 0. 0. 1. 0. 0. 0. 1.]\n",
      " [2. 0. 0. 2. 0. 0. 0. 0. 0. 0. 2. 0. 0. 0. 2. 2. 0. 2.]\n",
      " [2. 0. 0. 0. 1. 1. 0. 0. 0. 0. 0. 1. 0. 0. 0. 0. 0. 1.]\n",
      " [3. 0. 0. 2. 0. 1. 1. 1. 1. 1. 2. 0. 2. 0. 0. 2. 0. 3.]\n",
      " [2. 0. 1. 2. 0. 0. 0. 0. 0. 0. 3. 0. 2. 0. 2. 0. 0. 2.]\n",
      " [1. 0. 0. 1. 0. 0. 1. 1. 0. 0. 0. 0. 0. 0. 0. 0. 0. 0.]\n",
      " [3. 0. 0. 2. 0. 1. 1. 1. 1. 1. 2. 1. 2. 1. 3. 2. 0. 0.]]\n",
      "**************************************************\n",
      "nx_graph:  Graph with 18 nodes and 57 edges\n",
      "**************************************************\n",
      "textrank_score:  {0: 0.11366513558330069, 1: 0.008746355685131197, 2: 0.017886591814924722, 3: 0.07398020161977717, 4: 0.02468324112576157, 5: 0.05751807438932216, 6: 0.05157203129155068, 7: 0.05157203129155068, 8: 0.039812109552579134, 9: 0.039812109552579134, 10: 0.07527446540967611, 11: 0.023805764062826217, 12: 0.06327868965808785, 13: 0.04167366219269844, 14: 0.10011339602532737, 15: 0.07527446540967611, 16: 0.02879805776983595, 17: 0.11253361756539448}\n",
      "final_sent_coref:  -LRB- CNN -RRB- A Duke student has admitted to hanging a noose made of rope from a tree near a student union , university officials said Thursday . The prestigious private school did n't identify the student , citing federal privacy laws . In a news release , it said the student was no longer on campus and will face student conduct review . The student was identified during an investigation by campus police and the office of student affairs and admitted to placing the noose on the tree early Wednesday , the university said . Students and faculty members marched Wednesday afternoon chanting `` We are not afraid . the incident is one of several recent racist events to affect college students . A statement issued by Duke said there was a previous report of hate speech directed at students on campus . In the news release , the vice president for student affairs called the incident a `` cowardly act . '' Duke University is a private college with about 15,000 students in Durham , North Carolina .\n"
     ]
    }
   ],
   "source": [
    "result = coref.generate_summary(sample)"
   ],
   "metadata": {
    "collapsed": false,
    "pycharm": {
     "name": "#%%\n"
    }
   }
  },
  {
   "cell_type": "code",
   "execution_count": 9,
   "outputs": [
    {
     "data": {
      "text/plain": "['-LRB- CNN -RRB- A Duke student has admitted to hanging a noose made of rope from a tree near a student union , university officials said Thursday ',\n \" The prestigious private school did n't identify the student , citing federal privacy laws \",\n ' In a news release , it said the student was no longer on campus and will face student conduct review ',\n ' The student was identified during an investigation by campus police and the office of student affairs and admitted to placing the noose on the tree early Wednesday , the university said ',\n ' Students and faculty members marched Wednesday afternoon chanting `` We are not afraid ',\n ' The incident is one of several recent racist events to affect college students ',\n ' A statement issued by Duke said there was a previous report of hate speech directed at students on campus ',\n ' In the news release , the vice president for student affairs called the noose incident a `` cowardly act ',\n \" '' Duke University is a private college with about 15,000 students in Durham , North Carolina \",\n '']"
     },
     "execution_count": 9,
     "metadata": {},
     "output_type": "execute_result"
    }
   ],
   "source": [
    "sent = result.split(\".\")\n",
    "sent"
   ],
   "metadata": {
    "collapsed": false,
    "pycharm": {
     "name": "#%%\n"
    }
   }
  },
  {
   "cell_type": "code",
   "execution_count": 10,
   "outputs": [],
   "source": [
    "from sentence_transformers import SentenceTransformer, util\n",
    "\n",
    "model = SentenceTransformer('all-MiniLM-L6-v2')"
   ],
   "metadata": {
    "collapsed": false,
    "pycharm": {
     "name": "#%%\n"
    }
   }
  },
  {
   "cell_type": "code",
   "execution_count": 11,
   "outputs": [
    {
     "name": "stdout",
     "output_type": "stream",
     "text": [
      "Top-5 most similar pairs:\n",
      "-LRB- CNN -RRB- A Duke student has admitted to hanging a noose made of rope from a tree near a student union , university officials said Thursday  \t  The student was identified during an investigation by campus police and the office of student affairs and admitted to placing the noose on the tree early Wednesday , the university said  \t 0.5720\n",
      " A statement issued by Duke said there was a previous report of hate speech directed at students on campus  \t  '' Duke University is a private college with about 15,000 students in Durham , North Carolina  \t 0.4843\n",
      " In a news release , it said the student was no longer on campus and will face student conduct review  \t  A statement issued by Duke said there was a previous report of hate speech directed at students on campus  \t 0.4710\n",
      " The incident is one of several recent racist events to affect college students  \t  A statement issued by Duke said there was a previous report of hate speech directed at students on campus  \t 0.4703\n",
      " In a news release , it said the student was no longer on campus and will face student conduct review  \t  In the news release , the vice president for student affairs called the noose incident a `` cowardly act  \t 0.4444\n"
     ]
    }
   ],
   "source": [
    "embeddings = model.encode(sent)\n",
    "\n",
    "#Compute cosine similarity between all pairs\n",
    "cos_sim = util.cos_sim(embeddings, embeddings)\n",
    "\n",
    "#Add all pairs to a list with their cosine similarity score\n",
    "all_sentence_combinations = []\n",
    "for i in range(len(cos_sim) - 1):\n",
    "    for j in range(i + 1, len(cos_sim)):\n",
    "        all_sentence_combinations.append([cos_sim[i][j], i, j])\n",
    "\n",
    "#Sort list by the highest cosine similarity score\n",
    "all_sentence_combinations = sorted(all_sentence_combinations, key=lambda x: x[0], reverse=True)\n",
    "\n",
    "print(\"Top-5 most similar pairs:\")\n",
    "for score, i, j in all_sentence_combinations[0:5]:\n",
    "    print(\"{} \\t {} \\t {:.4f}\".format(sent[i], sent[j], cos_sim[i][j]))"
   ],
   "metadata": {
    "collapsed": false,
    "pycharm": {
     "name": "#%%\n"
    }
   }
  },
  {
   "cell_type": "code",
   "execution_count": null,
   "outputs": [],
   "source": [],
   "metadata": {
    "collapsed": false,
    "pycharm": {
     "name": "#%%\n"
    }
   }
  },
  {
   "cell_type": "code",
   "execution_count": null,
   "outputs": [],
   "source": [],
   "metadata": {
    "collapsed": false,
    "pycharm": {
     "name": "#%%\n"
    }
   }
  }
 ],
 "metadata": {
  "kernelspec": {
   "display_name": "Python 3",
   "language": "python",
   "name": "python3"
  },
  "language_info": {
   "codemirror_mode": {
    "name": "ipython",
    "version": 2
   },
   "file_extension": ".py",
   "mimetype": "text/x-python",
   "name": "python",
   "nbconvert_exporter": "python",
   "pygments_lexer": "ipython2",
   "version": "2.7.6"
  }
 },
 "nbformat": 4,
 "nbformat_minor": 0
}